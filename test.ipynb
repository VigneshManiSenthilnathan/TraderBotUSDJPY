{
 "cells": [
  {
   "cell_type": "code",
   "execution_count": 9,
   "metadata": {},
   "outputs": [],
   "source": [
    "import requests\n",
    "import defs\n",
    "import pandas as pd"
   ]
  },
  {
   "cell_type": "code",
   "execution_count": 10,
   "metadata": {},
   "outputs": [],
   "source": [
    "session = requests.Session()"
   ]
  },
  {
   "cell_type": "code",
   "execution_count": 11,
   "metadata": {},
   "outputs": [],
   "source": [
    "instrument = 'USD_JPY'\n",
    "count = 10\n",
    "granularity = 'H1'"
   ]
  },
  {
   "cell_type": "code",
   "execution_count": 12,
   "metadata": {},
   "outputs": [
    {
     "data": {
      "text/plain": [
       "'https://api-fxpractice.oanda.com/v3/instruments/USD_JPY/candles'"
      ]
     },
     "execution_count": 12,
     "metadata": {},
     "output_type": "execute_result"
    }
   ],
   "source": [
    "url = f\"{defs.OANDA_URL}/instruments/{instrument}/candles\"\n",
    "url"
   ]
  },
  {
   "cell_type": "code",
   "execution_count": 13,
   "metadata": {},
   "outputs": [
    {
     "data": {
      "text/plain": [
       "{'count': 10, 'granularity': 'H1', 'price': 'MBA'}"
      ]
     },
     "execution_count": 13,
     "metadata": {},
     "output_type": "execute_result"
    }
   ],
   "source": [
    "params = dict(\n",
    "    count = count,\n",
    "    granularity = granularity,\n",
    "    price = 'MBA'\n",
    ")"
   ]
  },
  {
   "cell_type": "code",
   "execution_count": 14,
   "metadata": {},
   "outputs": [
    {
     "data": {
      "text/plain": [
       "200"
      ]
     },
     "execution_count": 14,
     "metadata": {},
     "output_type": "execute_result"
    }
   ],
   "source": [
    "response = session.get(url, params=params, headers=defs.SECURE_HEADER)\n",
    "response.status_code"
   ]
  },
  {
   "cell_type": "code",
   "execution_count": 15,
   "metadata": {},
   "outputs": [
    {
     "name": "stdout",
     "output_type": "stream",
     "text": [
      "mid_o\n",
      "mid_h\n",
      "mid_l\n",
      "mid_c\n",
      "bid_o\n",
      "bid_h\n",
      "bid_l\n",
      "bid_c\n",
      "ask_o\n",
      "ask_h\n",
      "ask_l\n",
      "ask_c\n"
     ]
    }
   ],
   "source": [
    "data = response.json()\n",
    "\n",
    "prices = ['mid', 'bid', 'ask']\n",
    "ohlc = ['o','h', 'l', 'c']\n",
    "for price in prices:\n",
    "    for oh in ohlc:\n",
    "        print(f\"{price}_{oh}\")"
   ]
  },
  {
   "cell_type": "code",
   "execution_count": 16,
   "metadata": {},
   "outputs": [
    {
     "name": "stdout",
     "output_type": "stream",
     "text": [
      "[{'time': '2023-07-04T03:00:00.000000000Z', 'volume': 2369, 'mid_o': '144.592', 'mid_h': '144.666', 'mid_l': '144.572', 'mid_c': '144.664', 'bid_o': '144.584', 'bid_h': '144.659', 'bid_l': '144.564', 'bid_c': '144.657', 'ask_o': '144.599', 'ask_h': '144.674', 'ask_l': '144.581', 'ask_c': '144.671'}, {'time': '2023-07-04T04:00:00.000000000Z', 'volume': 2656, 'mid_o': '144.665', 'mid_h': '144.678', 'mid_l': '144.572', 'mid_c': '144.654', 'bid_o': '144.658', 'bid_h': '144.670', 'bid_l': '144.564', 'bid_c': '144.646', 'ask_o': '144.672', 'ask_h': '144.687', 'ask_l': '144.580', 'ask_c': '144.663'}, {'time': '2023-07-04T05:00:00.000000000Z', 'volume': 1956, 'mid_o': '144.657', 'mid_h': '144.668', 'mid_l': '144.605', 'mid_c': '144.647', 'bid_o': '144.650', 'bid_h': '144.659', 'bid_l': '144.596', 'bid_c': '144.639', 'ask_o': '144.664', 'ask_h': '144.677', 'ask_l': '144.613', 'ask_c': '144.655'}, {'time': '2023-07-04T06:00:00.000000000Z', 'volume': 4244, 'mid_o': '144.646', 'mid_h': '144.653', 'mid_l': '144.337', 'mid_c': '144.394', 'bid_o': '144.638', 'bid_h': '144.645', 'bid_l': '144.328', 'bid_c': '144.384', 'ask_o': '144.655', 'ask_h': '144.661', 'ask_l': '144.344', 'ask_c': '144.403'}, {'time': '2023-07-04T07:00:00.000000000Z', 'volume': 3987, 'mid_o': '144.393', 'mid_h': '144.551', 'mid_l': '144.375', 'mid_c': '144.499', 'bid_o': '144.384', 'bid_h': '144.543', 'bid_l': '144.366', 'bid_c': '144.491', 'ask_o': '144.402', 'ask_h': '144.559', 'ask_l': '144.383', 'ask_c': '144.507'}, {'time': '2023-07-04T08:00:00.000000000Z', 'volume': 3065, 'mid_o': '144.498', 'mid_h': '144.501', 'mid_l': '144.375', 'mid_c': '144.386', 'bid_o': '144.490', 'bid_h': '144.493', 'bid_l': '144.367', 'bid_c': '144.378', 'ask_o': '144.507', 'ask_h': '144.510', 'ask_l': '144.382', 'ask_c': '144.395'}, {'time': '2023-07-04T09:00:00.000000000Z', 'volume': 3160, 'mid_o': '144.388', 'mid_h': '144.428', 'mid_l': '144.304', 'mid_c': '144.427', 'bid_o': '144.380', 'bid_h': '144.421', 'bid_l': '144.295', 'bid_c': '144.419', 'ask_o': '144.395', 'ask_h': '144.436', 'ask_l': '144.311', 'ask_c': '144.435'}, {'time': '2023-07-04T10:00:00.000000000Z', 'volume': 2448, 'mid_o': '144.428', 'mid_h': '144.453', 'mid_l': '144.368', 'mid_c': '144.447', 'bid_o': '144.421', 'bid_h': '144.445', 'bid_l': '144.361', 'bid_c': '144.438', 'ask_o': '144.435', 'ask_h': '144.461', 'ask_l': '144.376', 'ask_c': '144.456'}, {'time': '2023-07-04T11:00:00.000000000Z', 'volume': 2128, 'mid_o': '144.447', 'mid_h': '144.465', 'mid_l': '144.354', 'mid_c': '144.416', 'bid_o': '144.439', 'bid_h': '144.457', 'bid_l': '144.347', 'bid_c': '144.408', 'ask_o': '144.455', 'ask_h': '144.474', 'ask_l': '144.362', 'ask_c': '144.424'}]\n"
     ]
    }
   ],
   "source": [
    "data['candles'][0]\n",
    "\n",
    "our_data = []\n",
    "for candle in data['candles']:\n",
    "    if candle['complete'] == False:\n",
    "        continue\n",
    "    new_dict = {}\n",
    "    new_dict['time'] = candle['time']\n",
    "    new_dict['volume'] = candle['volume']\n",
    "    for price in prices:\n",
    "        for oh in ohlc:\n",
    "            new_dict[f\"{price}_{oh}\"] = candle[price][oh]\n",
    "    \n",
    "    our_data.append(new_dict)\n",
    "print(our_data)\n",
    "\n",
    "candles_df = pd.DataFrame.from_dict(our_data)\n",
    "candles_df.to_pickle(\"USD_JPY_H1.pk1\")"
   ]
  }
 ],
 "metadata": {
  "kernelspec": {
   "display_name": "Python 3",
   "language": "python",
   "name": "python3"
  },
  "language_info": {
   "codemirror_mode": {
    "name": "ipython",
    "version": 3
   },
   "file_extension": ".py",
   "mimetype": "text/x-python",
   "name": "python",
   "nbconvert_exporter": "python",
   "pygments_lexer": "ipython3",
   "version": "3.10.11"
  },
  "orig_nbformat": 4
 },
 "nbformat": 4,
 "nbformat_minor": 2
}
